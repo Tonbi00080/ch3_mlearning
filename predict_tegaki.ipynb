{
 "cells": [
  {
   "cell_type": "code",
   "execution_count": 30,
   "metadata": {},
   "outputs": [
    {
     "name": "stdout",
     "output_type": "stream",
     "text": [
      "tegaki2.png :2\n",
      "tegaki6.png :6\n",
      "tegaki7.png :0\n"
     ]
    }
   ],
   "source": [
    "import cv2\n",
    "from sklearn.externals import joblib\n",
    "\n",
    "def predict_digit(filename):\n",
    "    # ml_digitsで作った学習データを読み込み\n",
    "    clf = joblib.load('digits.pkl')\n",
    "    # 手書きデータ読み込み\n",
    "    mv_img = cv2.imread(filename)\n",
    "    mv_img = cv2.cvtColor(mv_img, cv2.COLOR_BGR2GRAY)\n",
    "    mv_img = cv2.resize(mv_img,(8,8))\n",
    "    # 元データ白字、背景黒なので反転\n",
    "    # a // b切り捨て除算\n",
    "    # print(\"反転前\")\n",
    "    # print(mv_img)\n",
    "    # 黒0~ 白255\n",
    "    mv_img = 15 - mv_img // 16 \n",
    "    # print(\"反転後\")\n",
    "    # print(mv_img)\n",
    "    # ２次元→１次元\n",
    "    mv_img = mv_img.reshape(-1,64)\n",
    "    # データ予測\n",
    "    res = clf.predict(mv_img)\n",
    "    return res[0]\n",
    "\n",
    "\n",
    "# 画像データ指定して実行\n",
    "# 線50pxくらいに太くしたほうがいい\n",
    "n = predict_digit(\"tegaki2.png\")\n",
    "print(\"tegaki2.png :\" + str(n))\n",
    "n = predict_digit(\"tegaki6.png\")\n",
    "print(\"tegaki6.png :\" + str(n))\n",
    "# 線20pxくらい（細いので当たらない）\n",
    "n = predict_digit(\"tegaki7.png\")\n",
    "print(\"tegaki7.png :\" + str(n))"
   ]
  },
  {
   "cell_type": "code",
   "execution_count": null,
   "metadata": {
    "collapsed": true
   },
   "outputs": [],
   "source": []
  },
  {
   "cell_type": "code",
   "execution_count": null,
   "metadata": {
    "collapsed": true
   },
   "outputs": [],
   "source": []
  }
 ],
 "metadata": {
  "kernelspec": {
   "display_name": "Python 3",
   "language": "python",
   "name": "python3"
  },
  "language_info": {
   "codemirror_mode": {
    "name": "ipython",
    "version": 3
   },
   "file_extension": ".py",
   "mimetype": "text/x-python",
   "name": "python",
   "nbconvert_exporter": "python",
   "pygments_lexer": "ipython3",
   "version": "3.6.2"
  }
 },
 "nbformat": 4,
 "nbformat_minor": 2
}
