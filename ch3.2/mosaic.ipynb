{
 "cells": [
  {
   "cell_type": "code",
   "execution_count": 6,
   "metadata": {},
   "outputs": [],
   "source": [
    "# mosaic関数作成\n",
    "import cv2\n",
    "\n",
    "def mosaic(img, rect, size):\n",
    "    # モザイクかける領域取得\n",
    "    # 左上、右下のx,y代入\n",
    "    (x1,x2 ,y1 ,y2 ) = rect\n",
    "    # 横幅取得\n",
    "    w = x2 - x1\n",
    "    # 縦幅取得\n",
    "    h = y2 - y1\n",
    "    # 取得した位置の部分をi_rectに代入\n",
    "    i_rect = img[y1:y2,x1:x2]\n",
    "    # 一度縮小して拡大する\n",
    "    # I_rectのモザイク対象部分の画像をsizeの大きさの正方形にする→i_small\n",
    "    i_small = cv2.resize(i_rect, (size,size))\n",
    "    #  小さくした画像をモザイク対象範囲の大きさに拡大→i_mos\n",
    "    # 拡大縮小の方法　interpolation = cv2.INTER_AREA（平均画素法）\n",
    "    i_mos = cv2.resize(i_small, (w ,h), interpolation = cv2.INTER_AREA)\n",
    "    \n",
    "    # 画像にモザイク画像を重ねる\n",
    "    img2 = img.copy()\n",
    "    # モザイク対象範囲にモザイク化した画像を代入\n",
    "    img2[y1:y2, x1:x2] = i_mos\n",
    "    return img2"
   ]
  },
  {
   "cell_type": "code",
   "execution_count": null,
   "metadata": {
    "collapsed": true
   },
   "outputs": [],
   "source": []
  },
  {
   "cell_type": "code",
   "execution_count": null,
   "metadata": {
    "collapsed": true
   },
   "outputs": [],
   "source": []
  }
 ],
 "metadata": {
  "kernelspec": {
   "display_name": "Python 3",
   "language": "python",
   "name": "python3"
  },
  "language_info": {
   "codemirror_mode": {
    "name": "ipython",
    "version": 3
   },
   "file_extension": ".py",
   "mimetype": "text/x-python",
   "name": "python",
   "nbconvert_exporter": "python",
   "pygments_lexer": "ipython3",
   "version": "3.6.2"
  }
 },
 "nbformat": 4,
 "nbformat_minor": 2
}
