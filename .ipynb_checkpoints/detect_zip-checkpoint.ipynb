{
 "cells": [
  {
   "cell_type": "code",
   "execution_count": 18,
   "metadata": {},
   "outputs": [
    {
     "ename": "NameError",
     "evalue": "name 'green' is not defined",
     "output_type": "error",
     "traceback": [
      "\u001b[0;31m-----------------------------------------------------------------\u001b[0m",
      "\u001b[0;31mNameError\u001b[0m                       Traceback (most recent call last)",
      "\u001b[0;32m<ipython-input-18-52d3701e23b5>\u001b[0m in \u001b[0;36m<module>\u001b[0;34m()\u001b[0m\n\u001b[1;32m     45\u001b[0m \u001b[0;32mif\u001b[0m \u001b[0m__name__\u001b[0m \u001b[0;34m==\u001b[0m \u001b[0;34m'__main__'\u001b[0m\u001b[0;34m:\u001b[0m\u001b[0;34m\u001b[0m\u001b[0m\n\u001b[1;32m     46\u001b[0m     \u001b[0;31m#　ハガキ画像を指定して　領域を抽出する\u001b[0m\u001b[0;34m\u001b[0m\u001b[0;34m\u001b[0m\u001b[0m\n\u001b[0;32m---> 47\u001b[0;31m     \u001b[0mcnts\u001b[0m\u001b[0;34m,\u001b[0m \u001b[0mimg\u001b[0m \u001b[0;34m=\u001b[0m \u001b[0mdetect_zipno\u001b[0m\u001b[0;34m(\u001b[0m\u001b[0;34m\"postcard.jpg\"\u001b[0m\u001b[0;34m)\u001b[0m\u001b[0;34m\u001b[0m\u001b[0m\n\u001b[0m\u001b[1;32m     48\u001b[0m \u001b[0;34m\u001b[0m\u001b[0m\n\u001b[1;32m     49\u001b[0m     \u001b[0;31m# 画面に抽出結果を描画\u001b[0m\u001b[0;34m\u001b[0m\u001b[0;34m\u001b[0m\u001b[0m\n",
      "\u001b[0;32m<ipython-input-18-52d3701e23b5>\u001b[0m in \u001b[0;36mdetect_zipno\u001b[0;34m(fname)\u001b[0m\n\u001b[1;32m     36\u001b[0m             \u001b[0mresult2\u001b[0m\u001b[0;34m.\u001b[0m\u001b[0mappend\u001b[0m\u001b[0;34m(\u001b[0m\u001b[0;34m[\u001b[0m\u001b[0mx\u001b[0m\u001b[0;34m,\u001b[0m\u001b[0my\u001b[0m\u001b[0;34m,\u001b[0m\u001b[0mw\u001b[0m\u001b[0;34m,\u001b[0m\u001b[0mh\u001b[0m\u001b[0;34m]\u001b[0m\u001b[0;34m)\u001b[0m\u001b[0;34m\u001b[0m\u001b[0m\n\u001b[1;32m     37\u001b[0m             \u001b[0mlastx\u001b[0m \u001b[0;34m=\u001b[0m \u001b[0mx\u001b[0m\u001b[0;34m\u001b[0m\u001b[0m\n\u001b[0;32m---> 38\u001b[0;31m         \u001b[0mgreen\u001b[0m \u001b[0;34m-\u001b[0m \u001b[0;34m(\u001b[0m\u001b[0;36m0\u001b[0m\u001b[0;34m,\u001b[0m\u001b[0;36m255\u001b[0m\u001b[0;34m,\u001b[0m\u001b[0;36m0\u001b[0m\u001b[0;34m)\u001b[0m\u001b[0;34m\u001b[0m\u001b[0m\n\u001b[0m\u001b[1;32m     39\u001b[0m \u001b[0;34m\u001b[0m\u001b[0m\n\u001b[1;32m     40\u001b[0m         \u001b[0;31m# 緑色の枠を描画\u001b[0m\u001b[0;34m\u001b[0m\u001b[0;34m\u001b[0m\u001b[0m\n",
      "\u001b[0;31mNameError\u001b[0m: name 'green' is not defined"
     ]
    }
   ],
   "source": [
    "import cv2\n",
    "import matplotlib.pyplot as plt\n",
    "\n",
    "# ハガキ画像から郵便番号領域を抽出する関数\n",
    "def detect_zipno(fname):\n",
    "    # 画像読み込み\n",
    "    img = cv2.imread(fname)\n",
    "    # 画像のサイズ求める\n",
    "    h, w = img.shape[:2]\n",
    "    # 上半分、右2/3をとる\n",
    "    img = img[0:h//2, w//3:]\n",
    "    \n",
    "    # 画像を二値化\n",
    "    gray = cv2.cvtColor(img, cv2.COLOR_BGR2GRAY)\n",
    "    gray = cv2.GaussianBlur(gray,(3,3),0)\n",
    "    im2 = cv2.threshold(gray,140,255,cv2.THRESH_BINARY_INV)[1]\n",
    "    \n",
    "    # 輪郭抽出\n",
    "    cnts = cv2.findContours(im2,cv2.RETR_LIST,cv2.CHAIN_APPROX_SIMPLE)[1]\n",
    "    \n",
    "    # 抽出した輪郭をリストに変換\n",
    "    result = []\n",
    "    for pt in cnts:\n",
    "        x,y,w,h = cv2.boundingRect(pt)\n",
    "        # 大きすぎる小さすぎる領域を除去\n",
    "        if not (50 < w < 70): continue\n",
    "        result.append([x,y,w,h])\n",
    "        # 抽出した輪郭が左側から並ぶようにソート x基準（０要素め）\n",
    "        # sorted(配列,key=ソートに使う列)\n",
    "        result = sorted(result,key = lambda x:x[0])\n",
    "        # 輪郭が近すぎるものを除去 xの差が１０以上になるようにとる\n",
    "        result2 = []\n",
    "        lastx = -100\n",
    "        for x,y,w,h in result:\n",
    "            if ( x -lastx) < 10: continue\n",
    "            result2.append([x,y,w,h])\n",
    "            lastx = x\n",
    "        \n",
    "        green = (0,255,0)\n",
    "        \n",
    "        # 緑色の枠を描画\n",
    "        for x,y,w,h in result2:\n",
    "            cv2.rectangle(img,(x,y),(x + w, y + h),green, 3)\n",
    "        return result2, img\n",
    "    \n",
    "if __name__ == '__main__':\n",
    "    #　ハガキ画像を指定して　領域を抽出する\n",
    "    cnts, img = detect_zipno(\"postcard.jpg\")\n",
    "    \n",
    "    # 画面に抽出結果を描画\n",
    "    plt.imshow(cv2.cvtColor(img,cv2.COLOR_BGR2RGB))\n",
    "    plt.savefig(\"detect-zip.jpg\", dpi =200)\n",
    "    plt.show()\n",
    "    \n",
    "    "
   ]
  },
  {
   "cell_type": "code",
   "execution_count": null,
   "metadata": {
    "collapsed": true
   },
   "outputs": [],
   "source": []
  }
 ],
 "metadata": {
  "kernelspec": {
   "display_name": "Python 3",
   "language": "python",
   "name": "python3"
  },
  "language_info": {
   "codemirror_mode": {
    "name": "ipython",
    "version": 3
   },
   "file_extension": ".py",
   "mimetype": "text/x-python",
   "name": "python",
   "nbconvert_exporter": "python",
   "pygments_lexer": "ipython3",
   "version": "3.6.2"
  }
 },
 "nbformat": 4,
 "nbformat_minor": 2
}
