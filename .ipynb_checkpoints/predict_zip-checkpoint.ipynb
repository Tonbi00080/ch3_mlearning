{
 "cells": [
  {
   "cell_type": "code",
   "execution_count": 4,
   "metadata": {},
   "outputs": [
    {
     "data": {
      "image/png": "[encoded data removed]",
      "text/plain": [
       "<matplotlib.figure.Figure at 0x1224de8d0>"
      ]
     },
     "metadata": {},
     "output_type": "display_data"
    }
   ],
   "source": [
    "from detect_zip import *\n",
    "import matplotlib.pyplot as plt\n",
    "\n",
    "from sklearn.externals import joblib\n",
    "\n",
    "# 学習済手書き数字データ読み込み\n",
    "clf = joblib.load('digits.pkl')\n",
    "\n",
    "# 画像から領域を読み込む\n",
    "cnts, img = detect_zipno(\"postcard.jpg\")\n",
    "\n",
    "# 読み込んだデータプロット\n",
    "# enumerate(リスト(,インデックス)任意の位置から順に要素を取り出す\n",
    "for i,pt  in enumerate(cnts):\n",
    "    x,y,w,h = pt\n",
    "    # 枠線の輪郭部分だけ小さくする\n",
    "    x += 8\n",
    "    y += 8\n",
    "    w -= 16\n",
    "    h -= 16\n",
    "    # 画像データ取り出し\n",
    "    im2 = img[y:y + h, x:x + w]\n",
    "    # データを学習済みデータに合わせる\n",
    "    im2gray = cv2.cvtColor(im2, cv2.COLOR_BGR2GRAY)\n",
    "    # リサイズ\n",
    "    im2gray = cv2.resize(im2gray, (8,8))\n",
    "    # 白黒反転\n",
    "    # 黒0~ 白255\n",
    "    # 判定する文字は薄い白字のようす\n",
    "    im2gray = 15 - im2gray // 16\n",
    "    im2gray = im2gray.reshape((-1, 64))\n",
    "    # データ予測\n",
    "    res = clf.predict(im2gray)\n",
    "    # 画面に出力\n",
    "    plt.subplot(1,7,i + 1)\n",
    "    plt.imshow(im2)\n",
    "    plt.axis(\"off\")\n",
    "    plt.title(res)\n",
    "\n",
    "plt.show()"
   ]
  },
  {
   "cell_type": "code",
   "execution_count": null,
   "metadata": {
    "collapsed": true
   },
   "outputs": [],
   "source": []
  }
 ],
 "metadata": {
  "kernelspec": {
   "display_name": "Python 3",
   "language": "python",
   "name": "python3"
  },
  "language_info": {
   "codemirror_mode": {
    "name": "ipython",
    "version": 3
   },
   "file_extension": ".py",
   "mimetype": "text/x-python",
   "name": "python",
   "nbconvert_exporter": "python",
   "pygments_lexer": "ipython3",
   "version": "3.6.2"
  }
 },
 "nbformat": 4,
 "nbformat_minor": 2
}
