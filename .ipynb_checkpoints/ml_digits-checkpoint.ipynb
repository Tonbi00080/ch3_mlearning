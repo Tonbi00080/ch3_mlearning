{
 "cells": [
  {
   "cell_type": "code",
   "execution_count": 11,
   "metadata": {},
   "outputs": [
    {
     "name": "stdout",
     "output_type": "stream",
     "text": [
      "0.95\n"
     ]
    },
    {
     "data": {
      "text/plain": [
       "['digits.pkl']"
      ]
     },
     "execution_count": 11,
     "metadata": {},
     "output_type": "execute_result"
    }
   ],
   "source": [
    "from sklearn.model_selection import train_test_split\n",
    "from sklearn import datasets, svm ,metrics\n",
    "from sklearn.metrics import accuracy_score\n",
    "\n",
    "# データ読み込み\n",
    "digits = datasets.load_digits()\n",
    "# 画像データの配列(8*8)の配列\n",
    "x = digits.images\n",
    "# 画像データのラベルの配列\n",
    "y = digits.target\n",
    "# xの二次元配列を１次元に変換\n",
    "# タプルの値で-1を指定すると、変換元の要素数に合わせて(変換前要素数=変換後要素数となるように)自動で値が決定します。\n",
    "x = x.reshape((-1,64))\n",
    "# 学習用、テスト用分割\n",
    "x_train, x_test, y_train,y_test = train_test_split(x,y,test_size = 0.2)\n",
    "\n",
    "# データ学習\n",
    "clf = svm.LinearSVC()\n",
    "clf.fit(x_train, y_train)\n",
    "\n",
    "# 精度確認\n",
    "y_pred = clf.predict(x_test)\n",
    "print(accuracy_score(y_test,y_pred))\n",
    "\n",
    "# 学習データの保存\n",
    "# 学習データの読み込み、保存 joblibモジュール\n",
    "from sklearn.externals import joblib\n",
    "joblib.dump(clf, 'digits.pkl')"
   ]
  },
  {
   "cell_type": "code",
   "execution_count": null,
   "metadata": {
    "collapsed": true
   },
   "outputs": [],
   "source": []
  }
 ],
 "metadata": {
  "kernelspec": {
   "display_name": "Python 3",
   "language": "python",
   "name": "python3"
  },
  "language_info": {
   "codemirror_mode": {
    "name": "ipython",
    "version": 3
   },
   "file_extension": ".py",
   "mimetype": "text/x-python",
   "name": "python",
   "nbconvert_exporter": "python",
   "pygments_lexer": "ipython3",
   "version": "3.6.2"
  }
 },
 "nbformat": 4,
 "nbformat_minor": 2
}
