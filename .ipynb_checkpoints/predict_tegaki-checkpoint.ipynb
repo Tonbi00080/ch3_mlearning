{
 "cells": [
  {
   "cell_type": "code",
   "execution_count": 29,
   "metadata": {},
   "outputs": [
    {
     "name": "stdout",
     "output_type": "stream",
     "text": [
      "反転前\n",
      "[[255 255 255 132   4  30 255 255]\n",
      " [255 255   1 255 255 255  10 255]\n",
      " [255 227 255 255 255 255   0 255]\n",
      " [255 255 255 255 255   6 254 255]\n",
      " [255 255 255 224   0 255 255 255]\n",
      " [255 255  29 141 255 255 255 255]\n",
      " [255   5   3 112 192 198 197 219]\n",
      " [255 255 255 255 255 255 255 255]]\n",
      "反転後\n",
      "[[ 0  0  0  7 15 14  0  0]\n",
      " [ 0  0 15  0  0  0 15  0]\n",
      " [ 0  1  0  0  0  0 15  0]\n",
      " [ 0  0  0  0  0 15  0  0]\n",
      " [ 0  0  0  1 15  0  0  0]\n",
      " [ 0  0 14  7  0  0  0  0]\n",
      " [ 0 15 15  8  3  3  3  2]\n",
      " [ 0  0  0  0  0  0  0  0]]\n",
      "tegaki2.png :2\n",
      "反転前\n",
      "[[255 255 255 255 202 255 255 255]\n",
      " [255 255 120  59 255 255 255 255]\n",
      " [255 255  20 255 255 255 255 255]\n",
      " [255  69   3   0   0   2 255 255]\n",
      " [255   2 255 255 255 255 226 255]\n",
      " [255 175 246 255 255 190 255 255]\n",
      " [255 255  32   1   2   0 255 255]\n",
      " [255 255 255 255 255 255 255 255]]\n",
      "反転後\n",
      "[[ 0  0  0  0  3  0  0  0]\n",
      " [ 0  0  8 12  0  0  0  0]\n",
      " [ 0  0 14  0  0  0  0  0]\n",
      " [ 0 11 15 15 15 15  0  0]\n",
      " [ 0 15  0  0  0  0  1  0]\n",
      " [ 0  5  0  0  0  4  0  0]\n",
      " [ 0  0 13 15 15 15  0  0]\n",
      " [ 0  0  0  0  0  0  0  0]]\n",
      "tegaki6.png :6\n",
      "反転前\n",
      "[[255 255 255 255 255 255 255 255]\n",
      " [255 255 213 213 255 255 255 255]\n",
      " [255 255 255 255 255 255 255 255]\n",
      " [255 255 255 255 255 248 255 255]\n",
      " [255 255 255 255 255 240 255 255]\n",
      " [255 255 255 255 255 255 255 255]\n",
      " [255 255 255 255 255 255 255 255]\n",
      " [255 255 255 255 254 255 255 255]]\n",
      "反転後\n",
      "[[0 0 0 0 0 0 0 0]\n",
      " [0 0 2 2 0 0 0 0]\n",
      " [0 0 0 0 0 0 0 0]\n",
      " [0 0 0 0 0 0 0 0]\n",
      " [0 0 0 0 0 0 0 0]\n",
      " [0 0 0 0 0 0 0 0]\n",
      " [0 0 0 0 0 0 0 0]\n",
      " [0 0 0 0 0 0 0 0]]\n",
      "tegaki7.png :0\n"
     ]
    }
   ],
   "source": [
    "import cv2\n",
    "from sklearn.externals import joblib\n",
    "\n",
    "def predict_digit(filename):\n",
    "    # ml_digitsで作った学習データを読み込み\n",
    "    clf = joblib.load('digits.pkl')\n",
    "    # 手書きデータ読み込み\n",
    "    mv_img = cv2.imread(filename)\n",
    "    mv_img = cv2.cvtColor(mv_img, cv2.COLOR_BGR2GRAY)\n",
    "    mv_img = cv2.resize(mv_img,(8,8))\n",
    "    # 元データ白字、背景黒なので反転\n",
    "    # a // b切り捨て除算\n",
    "    # print(\"反転前\")\n",
    "    # print(mv_img)\n",
    "    # 黒0~ 白255\n",
    "    mv_img = 15 - mv_img // 16 \n",
    "    # print(\"反転後\")\n",
    "    # print(mv_img)\n",
    "    # ２次元→１次元\n",
    "    mv_img = mv_img.reshape(-1,64)\n",
    "    # データ予測\n",
    "    res = clf.predict(mv_img)\n",
    "    return res[0]\n",
    "\n",
    "\n",
    "# 画像データ指定して実行\n",
    "# 線50pxくらいに太くしたほうがいい\n",
    "n = predict_digit(\"tegaki2.png\")\n",
    "print(\"tegaki2.png :\" + str(n))\n",
    "n = predict_digit(\"tegaki6.png\")\n",
    "print(\"tegaki6.png :\" + str(n))\n",
    "# 線20pxくらい（細いので当たらない）\n",
    "n = predict_digit(\"tegaki7.png\")\n",
    "print(\"tegaki7.png :\" + str(n))"
   ]
  },
  {
   "cell_type": "code",
   "execution_count": null,
   "metadata": {
    "collapsed": true
   },
   "outputs": [],
   "source": []
  },
  {
   "cell_type": "code",
   "execution_count": null,
   "metadata": {
    "collapsed": true
   },
   "outputs": [],
   "source": []
  }
 ],
 "metadata": {
  "kernelspec": {
   "display_name": "Python 3",
   "language": "python",
   "name": "python3"
  },
  "language_info": {
   "codemirror_mode": {
    "name": "ipython",
    "version": 3
   },
   "file_extension": ".py",
   "mimetype": "text/x-python",
   "name": "python",
   "nbconvert_exporter": "python",
   "pygments_lexer": "ipython3",
   "version": "3.6.2"
  }
 },
 "nbformat": 4,
 "nbformat_minor": 2
}
