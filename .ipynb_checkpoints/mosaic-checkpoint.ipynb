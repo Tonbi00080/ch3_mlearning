{
 "cells": [
  {
   "cell_type": "code",
   "execution_count": 4,
   "metadata": {},
   "outputs": [
    {
     "ename": "error",
     "evalue": "OpenCV(3.4.3) /Users/travis/build/skvark/opencv-python/opencv/modules/imgproc/src/resize.cpp:4044: error: (-215:Assertion failed) !ssize.empty() in function 'resize'\n",
     "output_type": "error",
     "traceback": [
      "\u001b[0;31m-----------------------------------------------------------------\u001b[0m",
      "\u001b[0;31merror\u001b[0m                           Traceback (most recent call last)",
      "\u001b[0;32m<ipython-input-4-b0c43758897b>\u001b[0m in \u001b[0;36m<module>\u001b[0;34m()\u001b[0m\n\u001b[1;32m     46\u001b[0m \u001b[0;32mfor\u001b[0m\u001b[0;34m(\u001b[0m\u001b[0mx\u001b[0m\u001b[0;34m,\u001b[0m\u001b[0my\u001b[0m\u001b[0;34m,\u001b[0m\u001b[0mw\u001b[0m\u001b[0;34m,\u001b[0m\u001b[0mh\u001b[0m\u001b[0;34m)\u001b[0m \u001b[0;32min\u001b[0m \u001b[0mface_list\u001b[0m\u001b[0;34m:\u001b[0m\u001b[0;34m\u001b[0m\u001b[0m\n\u001b[1;32m     47\u001b[0m     \u001b[0;31m# mosaic(画像ファイル,(左上x,左上y,右下x, 右下y), ratio)\u001b[0m\u001b[0;34m\u001b[0m\u001b[0;34m\u001b[0m\u001b[0m\n\u001b[0;32m---> 48\u001b[0;31m     \u001b[0mimg\u001b[0m \u001b[0;34m=\u001b[0m \u001b[0mmosaic\u001b[0m\u001b[0;34m(\u001b[0m\u001b[0mimg\u001b[0m\u001b[0;34m,\u001b[0m\u001b[0;34m(\u001b[0m\u001b[0mx\u001b[0m\u001b[0;34m,\u001b[0m\u001b[0my\u001b[0m\u001b[0;34m,\u001b[0m\u001b[0mx\u001b[0m \u001b[0;34m+\u001b[0m \u001b[0mw\u001b[0m\u001b[0;34m,\u001b[0m \u001b[0my\u001b[0m \u001b[0;34m+\u001b[0m \u001b[0mh\u001b[0m\u001b[0;34m)\u001b[0m\u001b[0;34m,\u001b[0m\u001b[0;36m10\u001b[0m\u001b[0;34m)\u001b[0m\u001b[0;34m\u001b[0m\u001b[0m\n\u001b[0m\u001b[1;32m     49\u001b[0m \u001b[0;34m\u001b[0m\u001b[0m\n\u001b[1;32m     50\u001b[0m \u001b[0;31m# 画像を出力する\u001b[0m\u001b[0;34m\u001b[0m\u001b[0;34m\u001b[0m\u001b[0m\n",
      "\u001b[0;32m<ipython-input-4-b0c43758897b>\u001b[0m in \u001b[0;36mmosaic\u001b[0;34m(img, rect, size)\u001b[0m\n\u001b[1;32m     14\u001b[0m     \u001b[0;31m# 一度縮小して拡大する\u001b[0m\u001b[0;34m\u001b[0m\u001b[0;34m\u001b[0m\u001b[0m\n\u001b[1;32m     15\u001b[0m     \u001b[0;31m# I_rectのモザイク対象部分の画像をsizeの大きさの正方形にする→i_small\u001b[0m\u001b[0;34m\u001b[0m\u001b[0;34m\u001b[0m\u001b[0m\n\u001b[0;32m---> 16\u001b[0;31m     \u001b[0mi_small\u001b[0m \u001b[0;34m=\u001b[0m \u001b[0mcv2\u001b[0m\u001b[0;34m.\u001b[0m\u001b[0mresize\u001b[0m\u001b[0;34m(\u001b[0m\u001b[0mi_rect\u001b[0m\u001b[0;34m,\u001b[0m \u001b[0;34m(\u001b[0m\u001b[0msize\u001b[0m\u001b[0;34m,\u001b[0m\u001b[0msize\u001b[0m\u001b[0;34m)\u001b[0m\u001b[0;34m)\u001b[0m\u001b[0;34m\u001b[0m\u001b[0m\n\u001b[0m\u001b[1;32m     17\u001b[0m     \u001b[0;31m#  小さくした画像をモザイク対象範囲の大きさに拡大→i_mos\u001b[0m\u001b[0;34m\u001b[0m\u001b[0;34m\u001b[0m\u001b[0m\n\u001b[1;32m     18\u001b[0m     \u001b[0;31m# 拡大縮小の方法　interpolation = cv2.INTER_AREA（平均画素法）\u001b[0m\u001b[0;34m\u001b[0m\u001b[0;34m\u001b[0m\u001b[0m\n",
      "\u001b[0;31merror\u001b[0m: OpenCV(3.4.3) /Users/travis/build/skvark/opencv-python/opencv/modules/imgproc/src/resize.cpp:4044: error: (-215:Assertion failed) !ssize.empty() in function 'resize'\n"
     ]
    }
   ],
   "source": [
    "# mosaic関数作成\n",
    "import cv2\n",
    "\n",
    "def mosaic(img, rect, size):\n",
    "    # モザイクかける領域取得\n",
    "    # 左上、右下のx,y代入\n",
    "    (x1,x2 ,y1 ,y2 ) = rect\n",
    "    # 横幅取得\n",
    "    w = x2 - x1\n",
    "    # 縦幅取得\n",
    "    h = y2 - y1\n",
    "    # 取得した位置の部分をi_rectに代入\n",
    "    i_rect = img[y1:y2,x1:x2]\n",
    "    # 一度縮小して拡大する\n",
    "    # I_rectのモザイク対象部分の画像をsizeの大きさの正方形にする→i_small\n",
    "    i_small = cv2.resize(i_rect, (size,size))\n",
    "    #  小さくした画像をモザイク対象範囲の大きさに拡大→i_mos\n",
    "    # 拡大縮小の方法　interpolation = cv2.INTER_AREA（平均画素法）\n",
    "    i_mos = cv2.resize(i_small, (w ,h), interpolation = cv2.INTER_AREA)\n",
    "    \n",
    "    # 画像にモザイク画像を重ねる\n",
    "    img2 = img.copy()\n",
    "    # モザイク対象範囲にモザイク化した画像を代入\n",
    "    img2[y1:y2, x1:x2] = i_mos\n",
    "    return img2\n",
    "\n",
    "import matplotlib.pyplot as plt\n",
    "import cv2\n",
    "\n",
    "# カスケードファイルを指定して、検出器を作成\n",
    "cascade_file = \"haarcascade_frontalface_alt.xml\"\n",
    "# カスケード分類器のファイルを読み込む\n",
    "cascade = cv2.CascadeClassifier(cascade_file)\n",
    "\n",
    "# 画像を読み込んでグレイスケールに変換\n",
    "img = cv2.imread(\"starplayers.jpg\")\n",
    "img_gray = cv2.cvtColor(img, cv2.COLOR_BGR2GRAY)\n",
    "\n",
    "# 顔認識を実行　顔の位置の配列(x,y,w,h)\n",
    "face_list = cascade.detectMultiScale(img_gray,minSize =(150,150))\n",
    "\n",
    "# 結果を確認\n",
    "if len(face_list)  == 0:    quit() # exit\n",
    "    \n",
    "# 認識した部分にモザイク\n",
    "for(x,y,w,h) in face_list:\n",
    "    # mosaic(画像ファイル,(左上x,左上y,右下x, 右下y), ratio)\n",
    "    img = mosaic(img,(x,y,x + w, y + h),5)\n",
    "    \n",
    "# 画像を出力する\n",
    "cv2.imwrite(\"stars_mosaic.jpg\", img)\n",
    "plt.imshow(cv2.cvtColor(img, cv2.COLOR_BGR2RGB))\n",
    "plt.axis(\"off\")\n",
    "plt.show()"
   ]
  },
  {
   "cell_type": "code",
   "execution_count": null,
   "metadata": {
    "collapsed": true
   },
   "outputs": [],
   "source": []
  },
  {
   "cell_type": "code",
   "execution_count": null,
   "metadata": {
    "collapsed": true
   },
   "outputs": [],
   "source": []
  }
 ],
 "metadata": {
  "kernelspec": {
   "display_name": "Python 3",
   "language": "python",
   "name": "python3"
  },
  "language_info": {
   "codemirror_mode": {
    "name": "ipython",
    "version": 3
   },
   "file_extension": ".py",
   "mimetype": "text/x-python",
   "name": "python",
   "nbconvert_exporter": "python",
   "pygments_lexer": "ipython3",
   "version": "3.6.2"
  }
 },
 "nbformat": 4,
 "nbformat_minor": 2
}
