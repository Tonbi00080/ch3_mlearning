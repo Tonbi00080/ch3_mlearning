{
 "cells": [
  {
   "cell_type": "code",
   "execution_count": 2,
   "metadata": {},
   "outputs": [
    {
     "ename": "IndentationError",
     "evalue": "unexpected indent (<ipython-input-2-a866bb5e25a2>, line 25)",
     "output_type": "error",
     "traceback": [
      "\u001b[0;36m  File \u001b[0;32m\"<ipython-input-2-a866bb5e25a2>\"\u001b[0;36m, line \u001b[0;32m25\u001b[0m\n\u001b[0;31m    cv2.rectangle(frame,(x,y),(x + w, y + h), green, 2)\u001b[0m\n\u001b[0m    ^\u001b[0m\n\u001b[0;31mIndentationError\u001b[0m\u001b[0;31m:\u001b[0m unexpected indent\n"
     ]
    }
   ],
   "source": [
    "import cv2\n",
    "\n",
    "cap = cv2.VideoCapture(0)\n",
    "img_last = None # 前回の画像を記憶する\n",
    "green = (0,255,0)\n",
    "\n",
    "while True:\n",
    "    # 画像を取得\n",
    "    _, frame = cap.read()\n",
    "    frame = cv2.resize(frame, (500,300))\n",
    "    # 白黒画像に変換\n",
    "    gray = cv2.cvtColor(frame, cv2.COLOR_BGR2GRAY)\n",
    "    gray = cv2.GaussianBlur(gray, (9,9), 0)\n",
    "    img_b =cv2.threshold(gray, 100, 255, cv2.THRESH_BINARY)\n",
    "    # 差分を確認\n",
    "    if img_last is None:\n",
    "        img_last = img_b\n",
    "        continue\n",
    "    frame_diff = cv2.absdiff(img_last, img_b) # 画像の配列の差分を返す\n",
    "    cnts =  cv2.findContours(frame_diff, cv2.RETR_EXTERNAL, cv2.CHAIN_APPROX_SIMPLE)[1] # 輪郭値のリスト返す\n",
    "    # 差分があった点を画面に描く\n",
    "    for pt in cnts:\n",
    "        x, y, w, h = cv2.boundingRect # 輪郭値をx,y,w,hに変換\n",
    "        if w < 30: continue # 小さな変更点は無視\n",
    "        cv2.rectangle(frame,(x,y),(x + w, y + h), green, 2)\n",
    "    # 今回のフレーム保存\n",
    "    img_last = img_b\n",
    "    # 画像に表示\n",
    "    cv2.imshow(\"Diff Camera\", frame)\n",
    "    cv2.imshow(\"diff data\", frame_diff)\n",
    "    if cv2.waitkey(1) == 13: break\n",
    "cap.release()\n",
    "cv2.destroyAllWindows()"
   ]
  },
  {
   "cell_type": "code",
   "execution_count": null,
   "metadata": {
    "collapsed": true
   },
   "outputs": [],
   "source": []
  }
 ],
 "metadata": {
  "kernelspec": {
   "display_name": "Python 3",
   "language": "python",
   "name": "python3"
  },
  "language_info": {
   "codemirror_mode": {
    "name": "ipython",
    "version": 3
   },
   "file_extension": ".py",
   "mimetype": "text/x-python",
   "name": "python",
   "nbconvert_exporter": "python",
   "pygments_lexer": "ipython3",
   "version": "3.6.2"
  }
 },
 "nbformat": 4,
 "nbformat_minor": 2
}
